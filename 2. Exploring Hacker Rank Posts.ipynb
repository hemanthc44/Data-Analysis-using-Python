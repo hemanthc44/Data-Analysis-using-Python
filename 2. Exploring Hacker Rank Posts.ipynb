{
 "cells": [
  {
   "cell_type": "markdown",
   "id": "8bb52670",
   "metadata": {},
   "source": [
    "# Exploring Hacker News Posts\n",
    "\n",
    "## 1. Introduction \n",
    "\n",
    "In this project we'll explore a sample [datatset](https://www.kaggle.com/datasets/hacker-news/hacker-news-posts) which shows various Hackerrank news posts and two statistics related to every post which are: \n",
    "- number of points : The number of points the post acquired, calculated as the total number of upvotes minus the total number of downvotes.\n",
    "- number of comments : The number of comments on the post.\n",
    "\n",
    "For the purpose of this project, we shall only look at posts whose titles begin with 'Ask HN' or 'Show HN'. Users submit Ask HN posts to ask the Hacker News community a specific questions. Similarly, user submit 'Show HN' posts to show Hacker news community a project, product or just something interesting. We'll compare these two types of posts to determine the following:\n",
    "- Do 'Ask HN' or \"Show HN' recieve more comments on average?\n",
    "- Do posts created at a certain time recieve more comments on average? \n",
    "\n",
    "We'll first start by opening and reading our dataset.\n"
   ]
  },
  {
   "cell_type": "markdown",
   "id": "65f6fea3",
   "metadata": {},
   "source": [
    "## 2. Data Cleaning - Filtering Ask HN and Show HN Posts \n",
    "\n",
    "In this step we will filter the dataset to only include the 'Ask HN' and 'Show HN' Posts. "
   ]
  },
  {
   "cell_type": "code",
   "execution_count": 8,
   "id": "1cb2e5ba",
   "metadata": {},
   "outputs": [
    {
     "name": "stdout",
     "output_type": "stream",
     "text": [
      "['id', 'title', 'url', 'num_points', 'num_comments', 'author', 'created_at']\n",
      "[['12224879', 'Interactive Dynamic Video', 'http://www.interactivedynamicvideo.com/', '386', '52', 'ne0phyte', '8/4/2016 11:52'], ['10975351', 'How to Use Open Source and Shut the Fuck Up at the Same Time', 'http://hueniverse.com/2016/01/26/how-to-use-open-source-and-shut-the-fuck-up-at-the-same-time/', '39', '10', 'josep2', '1/26/2016 19:30'], ['11964716', \"Florida DJs May Face Felony for April Fools' Water Joke\", 'http://www.thewire.com/entertainment/2013/04/florida-djs-april-fools-water-joke/63798/', '2', '1', 'vezycash', '6/23/2016 22:20'], ['11919867', 'Technology ventures: From Idea to Enterprise', 'https://www.amazon.com/Technology-Ventures-Enterprise-Thomas-Byers/dp/0073523429', '3', '1', 'hswarna', '6/17/2016 0:01'], ['10301696', 'Note by Note: The Making of Steinway L1037 (2007)', 'http://www.nytimes.com/2007/11/07/movies/07stein.html?_r=0', '8', '2', 'walterbell', '9/30/2015 4:12']]\n"
     ]
    }
   ],
   "source": [
    "from csv import reader\n",
    "\n",
    "opened_file = open(\"Downloads\\hacker_news.csv\", encoding = 'utf8')\n",
    "read_file = reader(opened_file)\n",
    "hn = list(read_file)\n",
    "headers = hn[0]\n",
    "hn_data = hn[1:]\n",
    "\n",
    "print(headers)\n",
    "print(hn_data[:5])\n"
   ]
  },
  {
   "cell_type": "code",
   "execution_count": 9,
   "id": "f99b5db5",
   "metadata": {},
   "outputs": [
    {
     "name": "stdout",
     "output_type": "stream",
     "text": [
      "1744\n",
      "1162\n",
      "17194\n"
     ]
    }
   ],
   "source": [
    "ask_posts = []\n",
    "show_posts = []\n",
    "other_posts = []\n",
    "\n",
    "\n",
    "for row in hn_data:\n",
    "    title = row[1]\n",
    "    if title.lower().startswith('ask hn'):\n",
    "        ask_posts.append(row)\n",
    "    elif title.lower().startswith('show hn'):\n",
    "        show_posts.append(row)\n",
    "    else:\n",
    "        other_posts.append(row)\n",
    "        \n",
    "print(len(ask_posts))\n",
    "print(len(show_posts))\n",
    "print(len(other_posts))"
   ]
  },
  {
   "cell_type": "markdown",
   "id": "7d6b8513",
   "metadata": {},
   "source": [
    "## 3. Average number of comments for Ask HN and Show HN posts \n"
   ]
  },
  {
   "cell_type": "code",
   "execution_count": 12,
   "id": "9a9f2d57",
   "metadata": {},
   "outputs": [
    {
     "name": "stdout",
     "output_type": "stream",
     "text": [
      "The average number of comments per Ask HN post are: 14.038417431192661\n"
     ]
    }
   ],
   "source": [
    "ask_total_comments = 0\n",
    "ask_total_posts = 0\n",
    "\n",
    "for row in ask_posts:\n",
    "    num_comments = int(row[4])\n",
    "    ask_total_comments += int(num_comments)\n",
    "    ask_total_posts += 1\n",
    "    \n",
    "avg_ask_comments = ask_total_comments/ask_total_posts\n",
    "print('The average number of comments per Ask HN post are:',avg_ask_comments)\n",
    "    "
   ]
  },
  {
   "cell_type": "code",
   "execution_count": 13,
   "id": "88af4a03",
   "metadata": {},
   "outputs": [
    {
     "name": "stdout",
     "output_type": "stream",
     "text": [
      "The average number of comments per Show HN post are: 10.31669535283993\n"
     ]
    }
   ],
   "source": [
    "show_total_comments = 0\n",
    "show_total_posts = 0\n",
    "\n",
    "for row in show_posts:\n",
    "    num_comments = int(row[4])\n",
    "    show_total_comments += int(num_comments)\n",
    "    show_total_posts += 1\n",
    "    \n",
    "avg_show_comments = show_total_comments/show_total_posts\n",
    "print('The average number of comments per Show HN post are:',avg_show_comments)"
   ]
  },
  {
   "cell_type": "code",
   "execution_count": 14,
   "id": "4f5ff587",
   "metadata": {},
   "outputs": [
    {
     "name": "stdout",
     "output_type": "stream",
     "text": [
      "1744\n",
      "1162\n"
     ]
    }
   ],
   "source": [
    "print(ask_total_posts)  #crosscheck \n",
    "print(show_total_posts) #these values should be same as the length of ask_posts and show_posts lengths."
   ]
  },
  {
   "cell_type": "markdown",
   "id": "e999e67c",
   "metadata": {},
   "source": [
    "On an average **Ask HN** posts recieve more comments than Show HN posts. "
   ]
  },
  {
   "cell_type": "markdown",
   "id": "2f616fa8",
   "metadata": {},
   "source": [
    "## 4. Finding the number of Ask posts and comments by hour "
   ]
  },
  {
   "cell_type": "code",
   "execution_count": 12,
   "id": "0dfb1342",
   "metadata": {},
   "outputs": [
    {
     "name": "stdout",
     "output_type": "stream",
     "text": [
      "Number of posts by hour: \n",
      " {'09': 45, '13': 85, '10': 59, '14': 107, '16': 108, '23': 68, '12': 73, '17': 100, '15': 116, '21': 109, '20': 80, '02': 58, '18': 109, '03': 54, '05': 46, '19': 110, '01': 60, '22': 71, '08': 48, '04': 47, '00': 55, '06': 44, '07': 34, '11': 58}\n",
      "Number of comments by hour: \n",
      " {'09': 251, '13': 1253, '10': 793, '14': 1416, '16': 1814, '23': 543, '12': 687, '17': 1146, '15': 4477, '21': 1745, '20': 1722, '02': 1381, '18': 1439, '03': 421, '05': 464, '19': 1188, '01': 683, '22': 479, '08': 492, '04': 337, '00': 447, '06': 397, '07': 267, '11': 641}\n"
     ]
    }
   ],
   "source": [
    "import datetime as dt \n",
    "result_list = []\n",
    "\n",
    "for row in ask_posts:\n",
    "    created_at = row[6]\n",
    "    n_comments = int(row[4])\n",
    "    result_list.append([created_at, n_comments])\n",
    "    \n",
    "posts_by_hour = {}\n",
    "comments_by_hour = {}\n",
    "\n",
    "for row in result_list:\n",
    "    date = dt.datetime.strptime(row[0], \"%m/%d/%Y %H:%M\")\n",
    "    hour = dt.datetime.strftime(date, \"%H\")\n",
    "    n_comments = row[1]\n",
    "    \n",
    "    if hour not in posts_by_hour:\n",
    "        posts_by_hour[hour] = 1\n",
    "        comments_by_hour[hour] = n_comments\n",
    "        \n",
    "    else:\n",
    "        posts_by_hour[hour] += 1\n",
    "        comments_by_hour[hour] += n_comments \n",
    "print(\"Number of posts by hour:\", '\\n', posts_by_hour)\n",
    "\"\\n\"\n",
    "\"\\n\"\n",
    "print(\"Number of comments by hour:\", '\\n', comments_by_hour)"
   ]
  },
  {
   "cell_type": "markdown",
   "id": "039e64d6",
   "metadata": {},
   "source": [
    "Peak activity of comments is at the hour **15** wher the number of comments made are **4477** and the least activity is at the hour **07** where the number of comments made are **267**."
   ]
  },
  {
   "cell_type": "markdown",
   "id": "fa4836d6",
   "metadata": {},
   "source": [
    "## 5. Calculating the Average Number of Comments for Ask HN Posts by hour. \n"
   ]
  },
  {
   "cell_type": "code",
   "execution_count": 27,
   "id": "5d881aac",
   "metadata": {},
   "outputs": [
    {
     "name": "stdout",
     "output_type": "stream",
     "text": [
      "{'09': 5.58, '13': 14.74, '10': 13.44, '14': 13.23, '16': 16.8, '23': 7.99, '12': 9.41, '17': 11.46, '15': 38.59, '21': 16.01, '20': 21.52, '02': 23.81, '18': 13.2, '03': 7.8, '05': 10.09, '19': 10.8, '01': 11.38, '22': 6.75, '08': 10.25, '04': 7.17, '00': 8.13, '06': 9.02, '07': 7.85, '11': 11.05}\n"
     ]
    }
   ],
   "source": [
    "avg_num_of_comments_by_hour = {}\n",
    "\n",
    "for hour in comments_by_hour:\n",
    "    avg_num_of_comments_by_hour[hour] = round(int(comments_by_hour[hour])/posts_by_hour[hour], 2)\n",
    "    \n",
    "print(avg_num_of_comments_by_hour)\n",
    "\n"
   ]
  },
  {
   "cell_type": "code",
   "execution_count": 29,
   "id": "a6946957",
   "metadata": {},
   "outputs": [
    {
     "name": "stdout",
     "output_type": "stream",
     "text": [
      "{'15': 38.59, '02': 23.81, '20': 21.52, '16': 16.8, '21': 16.01, '13': 14.74, '10': 13.44, '14': 13.23, '18': 13.2, '17': 11.46, '01': 11.38, '11': 11.05, '19': 10.8, '08': 10.25, '05': 10.09, '12': 9.41, '06': 9.02, '00': 8.13, '23': 7.99, '07': 7.85, '03': 7.8, '04': 7.17, '22': 6.75, '09': 5.58}\n"
     ]
    }
   ],
   "source": [
    "from operator import itemgetter \n",
    "\n",
    "sorted_dict = dict(sorted(avg_num_of_comments_by_hour.items(), key=itemgetter(1), reverse=True))\n",
    "\n",
    "print(sorted_dict)"
   ]
  },
  {
   "cell_type": "code",
   "execution_count": 30,
   "id": "8d9e0351",
   "metadata": {},
   "outputs": [
    {
     "name": "stdout",
     "output_type": "stream",
     "text": [
      "15: 38.59 average comments per post\n",
      "02: 23.81 average comments per post\n",
      "20: 21.52 average comments per post\n",
      "16: 16.80 average comments per post\n",
      "21: 16.01 average comments per post\n"
     ]
    }
   ],
   "source": [
    "for i, (hour, avg_comments) in enumerate(sorted_dict.items()):\n",
    "  if i < 5:\n",
    "    print(f\"{hour}: {avg_comments:.2f} average comments per post\")"
   ]
  },
  {
   "cell_type": "markdown",
   "id": "7fad0825",
   "metadata": {},
   "source": [
    "# Conclusion \n",
    "\n",
    "In this project, we analyzed user interaction of Hakcer News for two post categories - Ask HN and Show HN.\n",
    "\n",
    "Focusing on \"ask\" posts we found out that the data indicates that the average number of comments per hour on a platform peaks between **15:00** and **16:00** with **38.59 comments**. Notably, the early hours of **02:00** also show a high activity level with an average of **23.81 comments**. It's important to note that the above overview is showing results as per Eastern Time in the US."
   ]
  },
  {
   "cell_type": "code",
   "execution_count": null,
   "id": "46405604",
   "metadata": {},
   "outputs": [],
   "source": []
  }
 ],
 "metadata": {
  "kernelspec": {
   "display_name": "Python 3 (ipykernel)",
   "language": "python",
   "name": "python3"
  },
  "language_info": {
   "codemirror_mode": {
    "name": "ipython",
    "version": 3
   },
   "file_extension": ".py",
   "mimetype": "text/x-python",
   "name": "python",
   "nbconvert_exporter": "python",
   "pygments_lexer": "ipython3",
   "version": "3.11.5"
  }
 },
 "nbformat": 4,
 "nbformat_minor": 5
}

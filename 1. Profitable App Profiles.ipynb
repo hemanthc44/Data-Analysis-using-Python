{
 "cells": [
  {
   "cell_type": "markdown",
   "id": "a09f64c1",
   "metadata": {},
   "source": [
    "# Profitable App Profiles for Google Play and App Store"
   ]
  },
  {
   "cell_type": "markdown",
   "id": "b285e927",
   "metadata": {},
   "source": [
    "Our aim in this project is to find mobile app profiles that are profitable in the Google Play and App Store markets. As a data analyst for a company that builds mobile apps, the job as a data analyst is to empower the team of developers to make data driven decisions with respect to the type of apps they build.\n",
    "\n",
    "At our company, we only build apps that are free to use and hence the main source of revenue is from in app advertisements. This means that the revenue is influenced by the number of users using the app. The goal of this project is to analyse the app database and provide insights to the development team with reagards to what kind of app is likely to attract more number of users. "
   ]
  },
  {
   "cell_type": "markdown",
   "id": "805bf059",
   "metadata": {},
   "source": [
    "# 1. Opening and exploring the dataset"
   ]
  },
  {
   "cell_type": "markdown",
   "id": "33c98dcc",
   "metadata": {},
   "source": [
    "As of the third quarter of 2023 there are a total of 3.55 million apps available on google play store and store. As it is quite complicated to collect data on all of these apps, for the purpose of our project we are going to use two sample datasets, one for each: \n",
    "- A data set containing data about approximately ten thousand Android apps from Google Play.\n",
    "- A data set containing data about approximately seven thousand iOS apps from the App Store. You can download the data set directly from this link.\n",
    "\n",
    "Let's start by opening the datasets and then explore the datasets.\n"
   ]
  },
  {
   "cell_type": "code",
   "execution_count": 1,
   "id": "97380a78",
   "metadata": {},
   "outputs": [],
   "source": [
    "from csv import reader\n",
    "\n",
    "#Opening the google play dataset.\n",
    "opened_file = open(\"Downloads\\googleplaystore.csv\", encoding='utf8')\n",
    "read_file = reader(opened_file)\n",
    "android = list(read_file)\n",
    "android_header = android[0]\n",
    "android = android[1:]\n",
    "\n",
    "#Opening the app store dataset.\n",
    "opened_file = open(\"Downloads\\AppleStore.csv\", encoding='utf8')\n",
    "read_file = reader(opened_file)\n",
    "ios = list(read_file)\n",
    "ios_header = ios[0]\n",
    "ios = ios[1:]\n"
   ]
  },
  {
   "cell_type": "markdown",
   "id": "a2e5aee6",
   "metadata": {},
   "source": [
    "Now we define a function which will help us examine the basic charecteristics of a dataset and apply it our datasets:"
   ]
  },
  {
   "cell_type": "code",
   "execution_count": 2,
   "id": "adf11abb",
   "metadata": {},
   "outputs": [
    {
     "name": "stdout",
     "output_type": "stream",
     "text": [
      "['App', 'Category', 'Rating', 'Reviews', 'Size', 'Installs', 'Type', 'Price', 'Content Rating', 'Genres', 'Last Updated', 'Current Ver', 'Android Ver']\n",
      "\n",
      "\n",
      "['Photo Editor & Candy Camera & Grid & ScrapBook', 'ART_AND_DESIGN', '4.1', '159', '19M', '10,000+', 'Free', '0', 'Everyone', 'Art & Design', 'January 7, 2018', '1.0.0', '4.0.3 and up']\n",
      "\n",
      "\n",
      "['Coloring book moana', 'ART_AND_DESIGN', '3.9', '967', '14M', '500,000+', 'Free', '0', 'Everyone', 'Art & Design;Pretend Play', 'January 15, 2018', '2.0.0', '4.0.3 and up']\n",
      "\n",
      "\n",
      "['U Launcher Lite – FREE Live Cool Themes, Hide Apps', 'ART_AND_DESIGN', '4.7', '87510', '8.7M', '5,000,000+', 'Free', '0', 'Everyone', 'Art & Design', 'August 1, 2018', '1.2.4', '4.0.3 and up']\n",
      "\n",
      "\n",
      "Number of rows: 10841\n",
      "Number of columns: 13\n",
      "\n",
      "\n",
      "\n",
      "\n",
      "['id', 'track_name', 'size_bytes', 'currency', 'price', 'rating_count_tot', 'rating_count_ver', 'user_rating', 'user_rating_ver', 'ver', 'cont_rating', 'prime_genre', 'sup_devices.num', 'ipadSc_urls.num', 'lang.num', 'vpp_lic']\n",
      "\n",
      "\n",
      "['284882215', 'Facebook', '389879808', 'USD', '0.0', '2974676', '212', '3.5', '3.5', '95.0', '4+', 'Social Networking', '37', '1', '29', '1']\n",
      "\n",
      "\n",
      "['389801252', 'Instagram', '113954816', 'USD', '0.0', '2161558', '1289', '4.5', '4.0', '10.23', '12+', 'Photo & Video', '37', '0', '29', '1']\n",
      "\n",
      "\n",
      "['529479190', 'Clash of Clans', '116476928', 'USD', '0.0', '2130805', '579', '4.5', '4.5', '9.24.12', '9+', 'Games', '38', '5', '18', '1']\n",
      "\n",
      "\n",
      "Number of rows: 7197\n",
      "Number of columns: 16\n"
     ]
    }
   ],
   "source": [
    "def explore_data(dataset, start, end, rows_and_columns=False):\n",
    "    dataset_slice = dataset[start:end]    \n",
    "    for row in dataset_slice:\n",
    "        print(row)\n",
    "        print('\\n') # adds a new (empty) line after each row\n",
    "\n",
    "    if rows_and_columns:\n",
    "        print('Number of rows:', len(dataset))\n",
    "        print('Number of columns:', len(dataset[0]))\n",
    "\n",
    "#android dataset\n",
    "print(android_header)\n",
    "print('\\n')\n",
    "explore_data(android, 0, 3, True)\n",
    "print('\\n')\n",
    "print('\\n')\n",
    "#ios dataset\n",
    "print(ios_header)\n",
    "print('\\n')\n",
    "explore_data(ios, 0, 3, True)"
   ]
  },
  {
   "cell_type": "markdown",
   "id": "9b030270",
   "metadata": {},
   "source": [
    "- We see that the Google Play data set has 10841 apps and 13 columns. At a quick glance, the columns that might be useful for the purpose of our analysis are 'App', 'Category', 'Reviews', 'Installs', 'Type', 'Price', and 'Genres'.\n",
    "- We have 7197 iOS apps in the IOS data set, and the columns that seem interesting are: 'track_name', 'currency', 'price', 'rating_count_tot', 'rating_count_ver', and 'prime_genre'. "
   ]
  },
  {
   "cell_type": "markdown",
   "id": "573b7a46",
   "metadata": {},
   "source": [
    "# 2. Data Cleaning\n",
    "\n",
    "## 2.1. Dealing with incorrect data \n",
    "\n",
    "From the [discussion section](https://www.kaggle.com/datasets/lava18/google-play-store-apps/discussion/164101) for the google play data set we can identify that row 10472 has incorrect data. Let us print this row and compare it with the header and a correct row. "
   ]
  },
  {
   "cell_type": "code",
   "execution_count": 3,
   "id": "e36e921f",
   "metadata": {},
   "outputs": [
    {
     "name": "stdout",
     "output_type": "stream",
     "text": [
      "['App', 'Category', 'Rating', 'Reviews', 'Size', 'Installs', 'Type', 'Price', 'Content Rating', 'Genres', 'Last Updated', 'Current Ver', 'Android Ver']\n",
      "\n",
      "\n",
      "['Life Made WI-Fi Touchscreen Photo Frame', '1.9', '19', '3.0M', '1,000+', 'Free', '0', 'Everyone', '', 'February 11, 2018', '1.0.19', '4.0 and up']\n",
      "\n",
      "\n",
      "['osmino Wi-Fi: free WiFi', 'TOOLS', '4.2', '134203', '4.1M', '10,000,000+', 'Free', '0', 'Everyone', 'Tools', 'August 7, 2018', '6.06.14', '4.4 and up']\n"
     ]
    }
   ],
   "source": [
    "print(android_header)\n",
    "print('\\n')\n",
    "print(android[10472])\n",
    "print('\\n')\n",
    "print(android[10473])"
   ]
  },
  {
   "cell_type": "markdown",
   "id": "4130d0a4",
   "metadata": {},
   "source": [
    "Here we can see that for row 10472, under category the value is '1.9' and under rating the value is '19' which are inconsistent compared to the other rows. Upon examination, we can conclude that the missing value for row 10472 is under the column category.\n",
    "As a consequence we delete this row."
   ]
  },
  {
   "cell_type": "code",
   "execution_count": 4,
   "id": "3f8f4e71",
   "metadata": {},
   "outputs": [
    {
     "name": "stdout",
     "output_type": "stream",
     "text": [
      "10841\n",
      "10840\n"
     ]
    }
   ],
   "source": [
    "print(len(android))\n",
    "del android[10472]\n",
    "print(len(android))"
   ]
  },
  {
   "cell_type": "markdown",
   "id": "cc3f6fd2",
   "metadata": {},
   "source": [
    "## 2.2. Removing duplicate entries\n",
    "\n",
    "From the discussion section we can also gather that the dataset has duplicate entries for certain apps. Instagram is one such app:"
   ]
  },
  {
   "cell_type": "code",
   "execution_count": 5,
   "id": "01a6084f",
   "metadata": {},
   "outputs": [
    {
     "name": "stdout",
     "output_type": "stream",
     "text": [
      "['Instagram', 'SOCIAL', '4.5', '66577313', 'Varies with device', '1,000,000,000+', 'Free', '0', 'Teen', 'Social', 'July 31, 2018', 'Varies with device', 'Varies with device']\n",
      "['Instagram', 'SOCIAL', '4.5', '66577446', 'Varies with device', '1,000,000,000+', 'Free', '0', 'Teen', 'Social', 'July 31, 2018', 'Varies with device', 'Varies with device']\n",
      "['Instagram', 'SOCIAL', '4.5', '66577313', 'Varies with device', '1,000,000,000+', 'Free', '0', 'Teen', 'Social', 'July 31, 2018', 'Varies with device', 'Varies with device']\n",
      "['Instagram', 'SOCIAL', '4.5', '66509917', 'Varies with device', '1,000,000,000+', 'Free', '0', 'Teen', 'Social', 'July 31, 2018', 'Varies with device', 'Varies with device']\n"
     ]
    }
   ],
   "source": [
    "for app in android:\n",
    "    name = app[0]\n",
    "    if name == 'Instagram':\n",
    "        print(app)"
   ]
  },
  {
   "cell_type": "markdown",
   "id": "aadec60c",
   "metadata": {},
   "source": [
    "As, we can see there are four entries for the same app. Let us find out how many duplicate entries exist in the dataset. "
   ]
  },
  {
   "cell_type": "code",
   "execution_count": 6,
   "id": "87a03cdc",
   "metadata": {},
   "outputs": [
    {
     "name": "stdout",
     "output_type": "stream",
     "text": [
      "There are a total of  1181  duplicate apps in the googleplaystore dataset.\n",
      "\n",
      "\n",
      "Examples of duplicate apps: \n",
      "['Quick PDF Scanner + OCR FREE', 'Box', 'Google My Business', 'ZOOM Cloud Meetings', 'join.me - Simple Meetings']\n"
     ]
    }
   ],
   "source": [
    "duplicate_apps = []\n",
    "unique_apps = []\n",
    "for app in android :\n",
    "    name = app[0]\n",
    "    if name in unique_apps:\n",
    "        duplicate_apps.append(name)\n",
    "    else :\n",
    "        unique_apps.append(name)\n",
    "        \n",
    "print('There are a total of ',len(duplicate_apps),' duplicate apps in the googleplaystore dataset.')\n",
    "print('\\n')\n",
    "print('Examples of duplicate apps: ')\n",
    "print(duplicate_apps[:5])"
   ]
  },
  {
   "cell_type": "markdown",
   "id": "e438dd5d",
   "metadata": {},
   "source": [
    "We aim to refine our data analysis process by eliminating duplicate entries for apps. Instead of randomly removing duplicate rows, we can adopt a more systematic approach based on review counts.\n",
    "\n",
    "Here's how we'll proceed:\n",
    "\n",
    "- Construct a dictionary where each app name serves as a key, and the associated value represents the highest number of reviews recorded for that app.\n",
    "- Utilize this dictionary to form a new dataset containing only one entry per app, selecting the entries with the highest review counts.\n",
    "\n",
    "In essence, our criterion for retaining rows involves prioritizing entries with the highest review counts, as they typically offer the most reliable ratings."
   ]
  },
  {
   "cell_type": "code",
   "execution_count": 7,
   "id": "e03ec298",
   "metadata": {},
   "outputs": [],
   "source": [
    "reviews_max = {}\n",
    "for app in android:\n",
    "    name = app[0]\n",
    "    n_reviews = float(app[3])\n",
    "    if name in reviews_max and reviews_max[name] < n_reviews:\n",
    "        reviews_max[name] = n_reviews\n",
    "    elif name not in reviews_max:\n",
    "        reviews_max[name] = n_reviews"
   ]
  },
  {
   "cell_type": "markdown",
   "id": "baf3ca25",
   "metadata": {},
   "source": [
    "In a previous code cell, we found that there are 1,181 cases where an app occurs more than once, so the length of our dictionary (of unique apps) should be equal to the difference between the length of our data set and 1,181."
   ]
  },
  {
   "cell_type": "code",
   "execution_count": 8,
   "id": "8f0e70d0",
   "metadata": {},
   "outputs": [
    {
     "name": "stdout",
     "output_type": "stream",
     "text": [
      "Expected length: 9659\n",
      "Actual length: 9659\n"
     ]
    }
   ],
   "source": [
    "print('Expected length:', len(android) - 1181)\n",
    "print('Actual length:', len(reviews_max))"
   ]
  },
  {
   "cell_type": "markdown",
   "id": "ef663e35",
   "metadata": {},
   "source": [
    "Now, let's use the reviews_max dictionary to remove the duplicates. For the duplicate cases, we'll only keep the entries with the highest number of reviews. In the code cell below:"
   ]
  },
  {
   "cell_type": "code",
   "execution_count": 9,
   "id": "94f7b2b5",
   "metadata": {},
   "outputs": [
    {
     "name": "stdout",
     "output_type": "stream",
     "text": [
      "['Photo Editor & Candy Camera & Grid & ScrapBook', 'ART_AND_DESIGN', '4.1', '159', '19M', '10,000+', 'Free', '0', 'Everyone', 'Art & Design', 'January 7, 2018', '1.0.0', '4.0.3 and up']\n",
      "\n",
      "\n",
      "['U Launcher Lite – FREE Live Cool Themes, Hide Apps', 'ART_AND_DESIGN', '4.7', '87510', '8.7M', '5,000,000+', 'Free', '0', 'Everyone', 'Art & Design', 'August 1, 2018', '1.2.4', '4.0.3 and up']\n",
      "\n",
      "\n",
      "['Sketch - Draw & Paint', 'ART_AND_DESIGN', '4.5', '215644', '25M', '50,000,000+', 'Free', '0', 'Teen', 'Art & Design', 'June 8, 2018', 'Varies with device', '4.2 and up']\n",
      "\n",
      "\n",
      "Number of rows: 9659\n",
      "Number of columns: 13\n"
     ]
    }
   ],
   "source": [
    "android_clean = []\n",
    "already_added = []\n",
    "\n",
    "for app in android:\n",
    "    name = app[0]\n",
    "    n_reviews = float(app[3])\n",
    "    \n",
    "    if (reviews_max[name] == n_reviews) and (name not in already_added):\n",
    "        android_clean.append(app)\n",
    "        already_added.append(name)\n",
    "\n",
    "explore_data(android_clean, 0, 3, True)\n",
    "    "
   ]
  },
  {
   "cell_type": "markdown",
   "id": "caae5742",
   "metadata": {},
   "source": [
    "We have **9659** rows just as expected."
   ]
  },
  {
   "cell_type": "markdown",
   "id": "350f3ea9",
   "metadata": {},
   "source": [
    "## 2.3. Removing Non-English Apps\n",
    "\n",
    "By exploring the dataset, we notice that the names of some of the apps suggest they are not directed toward an English-speaking audience. Below, we see a couple of examples from both data sets:"
   ]
  },
  {
   "cell_type": "code",
   "execution_count": 10,
   "id": "5d88ca2b",
   "metadata": {},
   "outputs": [
    {
     "name": "stdout",
     "output_type": "stream",
     "text": [
      "爱奇艺PPS -《欢乐颂2》电视剧热播\n",
      "【脱出ゲーム】絶対に最後までプレイしないで 〜謎解き＆ブロックパズル〜\n",
      "中国語 AQリスニング\n",
      "لعبة تقدر تربح DZ\n"
     ]
    }
   ],
   "source": [
    "print(ios[813][1])\n",
    "print(ios[6731][1])\n",
    "\n",
    "print(android_clean[4412][0])\n",
    "print(android_clean[7940][0])"
   ]
  },
  {
   "cell_type": "markdown",
   "id": "0533e00d",
   "metadata": {},
   "source": [
    "We're not interested in keeping these kind of apps, so we'll remove them. One way to go about this is to remove each app whose name contains a symbol that is not commonly used in English text — English text usually includes letters from the English alphabet, numbers composed of digits from 0 to 9, punctuation marks (., !, ?, ;, etc.), and other symbols (+, *, /, etc.).\n",
    "\n",
    "All these characters that are specific to English texts are encoded using the ASCII standard. Each ASCII character has a corresponding number between 0 and 127 associated with it, and we can take advantage of that to build a function that checks an app name and tells us whether it contains non-ASCII characters.\n",
    "\n",
    "We built this function below, and we use the built-in ord() function to find out the corresponding encoding number of each character."
   ]
  },
  {
   "cell_type": "code",
   "execution_count": 11,
   "id": "f2036c8f",
   "metadata": {},
   "outputs": [
    {
     "name": "stdout",
     "output_type": "stream",
     "text": [
      "True\n",
      "False\n"
     ]
    }
   ],
   "source": [
    "def is_english(string):\n",
    "    for character in string:\n",
    "        if ord(character) > 127:\n",
    "            return False\n",
    "        return True\n",
    "    \n",
    "print(is_english('Instagram'))\n",
    "print(is_english('爱奇艺PPS -《欢乐颂2》电视剧热播'))"
   ]
  },
  {
   "cell_type": "markdown",
   "id": "b466742f",
   "metadata": {},
   "source": [
    "The function seems to work fine, but some English app names use emojis or other symbols (™, — (em dash), – (en dash), etc.) that fall outside of the ASCII range. Because of this, we'll remove useful apps if we use the function in its current form.\n",
    "\n",
    "To minimize the impact of data loss, we'll only remove an app if its name has more than three non-ASCII characters:"
   ]
  },
  {
   "cell_type": "code",
   "execution_count": 12,
   "id": "169e6dba",
   "metadata": {},
   "outputs": [],
   "source": [
    "def is_english(string):\n",
    "    non_ascii = 0\n",
    "    \n",
    "    for character in string:\n",
    "        if ord(character) > 127:\n",
    "            non_ascii += 1\n",
    "        \n",
    "    if non_ascii > 3:\n",
    "        return False\n",
    "    else:\n",
    "        return True\n"
   ]
  },
  {
   "cell_type": "markdown",
   "id": "d407ac03",
   "metadata": {},
   "source": [
    "The function is still not perfect, and very few non-English apps might get past our filter, but this seems good enough at this point in our analysis — we shouldn't spend too much time on optimization at this point.\n",
    "\n",
    "Below, we use the is_english() function to filter out the non-English apps for both data sets:"
   ]
  },
  {
   "cell_type": "code",
   "execution_count": 13,
   "id": "27c4bbd9",
   "metadata": {},
   "outputs": [
    {
     "name": "stdout",
     "output_type": "stream",
     "text": [
      "['Photo Editor & Candy Camera & Grid & ScrapBook', 'ART_AND_DESIGN', '4.1', '159', '19M', '10,000+', 'Free', '0', 'Everyone', 'Art & Design', 'January 7, 2018', '1.0.0', '4.0.3 and up']\n",
      "\n",
      "\n",
      "['U Launcher Lite – FREE Live Cool Themes, Hide Apps', 'ART_AND_DESIGN', '4.7', '87510', '8.7M', '5,000,000+', 'Free', '0', 'Everyone', 'Art & Design', 'August 1, 2018', '1.2.4', '4.0.3 and up']\n",
      "\n",
      "\n",
      "['Sketch - Draw & Paint', 'ART_AND_DESIGN', '4.5', '215644', '25M', '50,000,000+', 'Free', '0', 'Teen', 'Art & Design', 'June 8, 2018', 'Varies with device', '4.2 and up']\n",
      "\n",
      "\n",
      "Number of rows: 9614\n",
      "Number of columns: 13\n",
      "\n",
      "\n",
      "['284882215', 'Facebook', '389879808', 'USD', '0.0', '2974676', '212', '3.5', '3.5', '95.0', '4+', 'Social Networking', '37', '1', '29', '1']\n",
      "\n",
      "\n",
      "['389801252', 'Instagram', '113954816', 'USD', '0.0', '2161558', '1289', '4.5', '4.0', '10.23', '12+', 'Photo & Video', '37', '0', '29', '1']\n",
      "\n",
      "\n",
      "['529479190', 'Clash of Clans', '116476928', 'USD', '0.0', '2130805', '579', '4.5', '4.5', '9.24.12', '9+', 'Games', '38', '5', '18', '1']\n",
      "\n",
      "\n",
      "Number of rows: 6183\n",
      "Number of columns: 16\n"
     ]
    }
   ],
   "source": [
    "android_english = []\n",
    "ios_english = []\n",
    "\n",
    "for app in android_clean:\n",
    "    if is_english(app[0]):\n",
    "        android_english.append(app)\n",
    "        \n",
    "for app in ios:\n",
    "    if is_english(app[1]):\n",
    "        ios_english.append(app)\n",
    "        \n",
    "explore_data(android_english, 0, 3, True)\n",
    "print('\\n')\n",
    "explore_data(ios_english, 0, 3, True)\n"
   ]
  },
  {
   "cell_type": "markdown",
   "id": "5242a866",
   "metadata": {},
   "source": [
    "We can see that we're left with **9614 Android apps** and **6183 iOS apps**."
   ]
  },
  {
   "cell_type": "markdown",
   "id": "027ce875",
   "metadata": {},
   "source": [
    "## 2.4. Isolating the Free Apps\n",
    "\n",
    "As we mentioned in the introduction, we only build apps that are free to download and install, and our main source of revenue consists of in-app ads. Our data sets contain both free and non-free apps, and we'll need to isolate only the free apps for our analysis. Below, we isolate the free apps for both our data sets."
   ]
  },
  {
   "cell_type": "code",
   "execution_count": 14,
   "id": "8a83d48d",
   "metadata": {},
   "outputs": [
    {
     "name": "stdout",
     "output_type": "stream",
     "text": [
      "8864\n",
      "3222\n"
     ]
    }
   ],
   "source": [
    "android_final = []\n",
    "ios_final = []\n",
    "\n",
    "for app in android_english:\n",
    "    price = app[7]\n",
    "    if price == '0':\n",
    "        android_final.append(app)\n",
    "        \n",
    "for app in ios_english:\n",
    "    price = app[4]\n",
    "    if price == '0.0':\n",
    "        ios_final.append(app)\n",
    "        \n",
    "print(len(android_final))\n",
    "print(len(ios_final))"
   ]
  },
  {
   "cell_type": "markdown",
   "id": "d4a36caf",
   "metadata": {},
   "source": [
    "Finally, we're left with **8864 Android apps** and **3222 iOS apps**, which should be enough for our analysis."
   ]
  },
  {
   "cell_type": "markdown",
   "id": "58084199",
   "metadata": {},
   "source": [
    "# 3. Data Analysis\n",
    "\n",
    "## 3.1. Most Common Apps by Genre\n",
    "\n",
    "As we mentioned in the introduction, our aim is to determine the kinds of apps that are likely to attract more users because our revenue is highly influenced by the number of people using our apps.\n",
    "\n",
    "To minimize risks and overhead, our validation strategy for an app idea is comprised of three steps:\n",
    "\n",
    "1. Build a minimal Android version of the app, and add it to Google Play.\n",
    "2. If the app has a good response from users, we then develop it further.\n",
    "3. If the app is profitable after six months, we also build an iOS version of the app and add it to the App Store.\n",
    "\n",
    "Because our end goal is to add the app on both the App Store and Google Play, we need to find app profiles that are successful on both markets. For instance, a profile that might work well for both markets might be a productivity app that makes use of gamification.\n",
    "\n",
    "Let's begin the analysis by getting a sense of the most common genres for each market. For this, we'll build a frequency table for the **prime_genre** column of the App Store data set, and the **Genres and Category columns** of the Google Play data set.\n"
   ]
  },
  {
   "cell_type": "code",
   "execution_count": 15,
   "id": "1eada78e",
   "metadata": {},
   "outputs": [],
   "source": [
    "def freq_table(dataset, index):\n",
    "    table = {}\n",
    "    total = 0\n",
    "    \n",
    "    for row in dataset:\n",
    "        total += 1\n",
    "        value = row[index]\n",
    "        if value in table:\n",
    "            table[value] += 1\n",
    "        else:\n",
    "            table[value] = 1\n",
    "            \n",
    "    table_percentages = {}\n",
    "    for key in table:\n",
    "        percentage = (table[key]/total)*100\n",
    "        table_percentages[key] = percentage\n",
    "    \n",
    "    return table_percentages\n",
    "\n",
    "def display_table(dataset, index):\n",
    "    table = freq_table(dataset, index)\n",
    "    table_display = []\n",
    "    for key in table:\n",
    "        key_value_as_tuple = (table[key], key)\n",
    "        table_display.append(key_value_as_tuple)\n",
    "        \n",
    "    table_sorted = sorted(table_display, reverse = True)\n",
    "    for entry in table_sorted:\n",
    "        print(entry[1], ':', entry[0])"
   ]
  },
  {
   "cell_type": "markdown",
   "id": "c4f553a8",
   "metadata": {},
   "source": [
    "Here, we have built two functions we can use to analyze the frequency tables:\n",
    "\n",
    "- One function to generate frequency tables that show percentages\n",
    "- Another function that we can use to display the percentages in a descending order\n",
    "\n",
    "We start by examining the frequency table for the prime_genre column of the App Store data set."
   ]
  },
  {
   "cell_type": "code",
   "execution_count": 16,
   "id": "64972ab6",
   "metadata": {},
   "outputs": [
    {
     "name": "stdout",
     "output_type": "stream",
     "text": [
      "Games : 58.16263190564867\n",
      "Entertainment : 7.883302296710118\n",
      "Photo & Video : 4.9658597144630665\n",
      "Education : 3.662321539416512\n",
      "Social Networking : 3.2898820608317814\n",
      "Shopping : 2.60707635009311\n",
      "Utilities : 2.5139664804469275\n",
      "Sports : 2.1415270018621975\n",
      "Music : 2.0484171322160147\n",
      "Health & Fitness : 2.0173805090006205\n",
      "Productivity : 1.7380509000620732\n",
      "Lifestyle : 1.5828677839851024\n",
      "News : 1.3345747982619491\n",
      "Travel : 1.2414649286157666\n",
      "Finance : 1.1173184357541899\n",
      "Weather : 0.8690254500310366\n",
      "Food & Drink : 0.8069522036002483\n",
      "Reference : 0.5586592178770949\n",
      "Business : 0.5276225946617008\n",
      "Book : 0.4345127250155183\n",
      "Navigation : 0.186219739292365\n",
      "Medical : 0.186219739292365\n",
      "Catalogs : 0.12414649286157665\n"
     ]
    }
   ],
   "source": [
    "display_table(ios_final, -5)"
   ]
  },
  {
   "cell_type": "markdown",
   "id": "20c50a03",
   "metadata": {},
   "source": [
    "Among the free English apps, over half (58.16%) are categorized as games in the App Store. Entertainment apps follow closely, accounting for approximately 8%, with photo and video apps trailing at around 5%. Education-focused apps make up only 3.66% of the total, with social networking apps slightly behind at 3.29%.\n",
    "\n",
    "The data suggests that the App Store, particularly its free English apps section, is predominantly occupied by apps geared towards entertainment and leisure (including games, entertainment, photo and video, social networking, sports, and music). Meanwhile, apps with practical functionalities (such as education, shopping, utilities, productivity, and lifestyle) are less common.\n",
    "\n",
    "However, it's important to note that while entertainment apps are abundant, this doesn't necessarily correlate with higher user demand or engagement. The prevalence of entertainment apps doesn't inherently imply that they enjoy the highest user engagement; user demand might vary significantly across different app categories.\n",
    "\n",
    "Next, we'll explore the Genres and Category columns within the Google Play dataset, as they appear to be interrelated."
   ]
  },
  {
   "cell_type": "code",
   "execution_count": 17,
   "id": "665c87b6",
   "metadata": {},
   "outputs": [
    {
     "name": "stdout",
     "output_type": "stream",
     "text": [
      "FAMILY : 18.907942238267147\n",
      "GAME : 9.724729241877256\n",
      "TOOLS : 8.461191335740072\n",
      "BUSINESS : 4.591606498194946\n",
      "LIFESTYLE : 3.9034296028880866\n",
      "PRODUCTIVITY : 3.892148014440433\n",
      "FINANCE : 3.7003610108303246\n",
      "MEDICAL : 3.531137184115524\n",
      "SPORTS : 3.395758122743682\n",
      "PERSONALIZATION : 3.3167870036101084\n",
      "COMMUNICATION : 3.2378158844765346\n",
      "HEALTH_AND_FITNESS : 3.0798736462093865\n",
      "PHOTOGRAPHY : 2.944494584837545\n",
      "NEWS_AND_MAGAZINES : 2.7978339350180503\n",
      "SOCIAL : 2.6624548736462095\n",
      "TRAVEL_AND_LOCAL : 2.33528880866426\n",
      "SHOPPING : 2.2450361010830324\n",
      "BOOKS_AND_REFERENCE : 2.1435018050541514\n",
      "DATING : 1.861462093862816\n",
      "VIDEO_PLAYERS : 1.7937725631768955\n",
      "MAPS_AND_NAVIGATION : 1.3989169675090252\n",
      "FOOD_AND_DRINK : 1.2409747292418771\n",
      "EDUCATION : 1.1620036101083033\n",
      "ENTERTAINMENT : 0.9589350180505415\n",
      "LIBRARIES_AND_DEMO : 0.9363718411552346\n",
      "AUTO_AND_VEHICLES : 0.9250902527075812\n",
      "HOUSE_AND_HOME : 0.8235559566787004\n",
      "WEATHER : 0.8009927797833934\n",
      "EVENTS : 0.7107400722021661\n",
      "PARENTING : 0.6543321299638989\n",
      "ART_AND_DESIGN : 0.6430505415162455\n",
      "COMICS : 0.6204873646209386\n",
      "BEAUTY : 0.5979241877256317\n"
     ]
    }
   ],
   "source": [
    "display_table(android_final, 1) #Category"
   ]
  },
  {
   "cell_type": "code",
   "execution_count": 18,
   "id": "2b9617cd",
   "metadata": {},
   "outputs": [
    {
     "name": "stdout",
     "output_type": "stream",
     "text": [
      "Tools : 8.449909747292418\n",
      "Entertainment : 6.069494584837545\n",
      "Education : 5.347472924187725\n",
      "Business : 4.591606498194946\n",
      "Productivity : 3.892148014440433\n",
      "Lifestyle : 3.892148014440433\n",
      "Finance : 3.7003610108303246\n",
      "Medical : 3.531137184115524\n",
      "Sports : 3.463447653429603\n",
      "Personalization : 3.3167870036101084\n",
      "Communication : 3.2378158844765346\n",
      "Action : 3.1024368231046933\n",
      "Health & Fitness : 3.0798736462093865\n",
      "Photography : 2.944494584837545\n",
      "News & Magazines : 2.7978339350180503\n",
      "Social : 2.6624548736462095\n",
      "Travel & Local : 2.3240072202166067\n",
      "Shopping : 2.2450361010830324\n",
      "Books & Reference : 2.1435018050541514\n",
      "Simulation : 2.0419675090252705\n",
      "Dating : 1.861462093862816\n",
      "Arcade : 1.8501805054151623\n",
      "Video Players & Editors : 1.7712093862815883\n",
      "Casual : 1.7599277978339352\n",
      "Maps & Navigation : 1.3989169675090252\n",
      "Food & Drink : 1.2409747292418771\n",
      "Puzzle : 1.128158844765343\n",
      "Racing : 0.9927797833935018\n",
      "Role Playing : 0.9363718411552346\n",
      "Libraries & Demo : 0.9363718411552346\n",
      "Auto & Vehicles : 0.9250902527075812\n",
      "Strategy : 0.9138086642599278\n",
      "House & Home : 0.8235559566787004\n",
      "Weather : 0.8009927797833934\n",
      "Events : 0.7107400722021661\n",
      "Adventure : 0.6768953068592057\n",
      "Comics : 0.6092057761732852\n",
      "Beauty : 0.5979241877256317\n",
      "Art & Design : 0.5979241877256317\n",
      "Parenting : 0.4963898916967509\n",
      "Card : 0.45126353790613716\n",
      "Casino : 0.42870036101083037\n",
      "Trivia : 0.41741877256317694\n",
      "Educational;Education : 0.39485559566787\n",
      "Board : 0.3835740072202166\n",
      "Educational : 0.3722924187725632\n",
      "Education;Education : 0.33844765342960287\n",
      "Word : 0.2594765342960289\n",
      "Casual;Pretend Play : 0.236913357400722\n",
      "Music : 0.2030685920577617\n",
      "Racing;Action & Adventure : 0.16922382671480143\n",
      "Puzzle;Brain Games : 0.16922382671480143\n",
      "Entertainment;Music & Video : 0.16922382671480143\n",
      "Casual;Brain Games : 0.13537906137184114\n",
      "Casual;Action & Adventure : 0.13537906137184114\n",
      "Arcade;Action & Adventure : 0.12409747292418773\n",
      "Action;Action & Adventure : 0.10153429602888085\n",
      "Educational;Pretend Play : 0.09025270758122744\n",
      "Simulation;Action & Adventure : 0.078971119133574\n",
      "Parenting;Education : 0.078971119133574\n",
      "Entertainment;Brain Games : 0.078971119133574\n",
      "Board;Brain Games : 0.078971119133574\n",
      "Parenting;Music & Video : 0.06768953068592057\n",
      "Educational;Brain Games : 0.06768953068592057\n",
      "Casual;Creativity : 0.06768953068592057\n",
      "Art & Design;Creativity : 0.06768953068592057\n",
      "Education;Pretend Play : 0.056407942238267145\n",
      "Role Playing;Pretend Play : 0.04512635379061372\n",
      "Education;Creativity : 0.04512635379061372\n",
      "Role Playing;Action & Adventure : 0.033844765342960284\n",
      "Puzzle;Action & Adventure : 0.033844765342960284\n",
      "Entertainment;Creativity : 0.033844765342960284\n",
      "Entertainment;Action & Adventure : 0.033844765342960284\n",
      "Educational;Creativity : 0.033844765342960284\n",
      "Educational;Action & Adventure : 0.033844765342960284\n",
      "Education;Music & Video : 0.033844765342960284\n",
      "Education;Brain Games : 0.033844765342960284\n",
      "Education;Action & Adventure : 0.033844765342960284\n",
      "Adventure;Action & Adventure : 0.033844765342960284\n",
      "Video Players & Editors;Music & Video : 0.02256317689530686\n",
      "Sports;Action & Adventure : 0.02256317689530686\n",
      "Simulation;Pretend Play : 0.02256317689530686\n",
      "Puzzle;Creativity : 0.02256317689530686\n",
      "Music;Music & Video : 0.02256317689530686\n",
      "Entertainment;Pretend Play : 0.02256317689530686\n",
      "Casual;Education : 0.02256317689530686\n",
      "Board;Action & Adventure : 0.02256317689530686\n",
      "Video Players & Editors;Creativity : 0.01128158844765343\n",
      "Trivia;Education : 0.01128158844765343\n",
      "Travel & Local;Action & Adventure : 0.01128158844765343\n",
      "Tools;Education : 0.01128158844765343\n",
      "Strategy;Education : 0.01128158844765343\n",
      "Strategy;Creativity : 0.01128158844765343\n",
      "Strategy;Action & Adventure : 0.01128158844765343\n",
      "Simulation;Education : 0.01128158844765343\n",
      "Role Playing;Brain Games : 0.01128158844765343\n",
      "Racing;Pretend Play : 0.01128158844765343\n",
      "Puzzle;Education : 0.01128158844765343\n",
      "Parenting;Brain Games : 0.01128158844765343\n",
      "Music & Audio;Music & Video : 0.01128158844765343\n",
      "Lifestyle;Pretend Play : 0.01128158844765343\n",
      "Lifestyle;Education : 0.01128158844765343\n",
      "Health & Fitness;Education : 0.01128158844765343\n",
      "Health & Fitness;Action & Adventure : 0.01128158844765343\n",
      "Entertainment;Education : 0.01128158844765343\n",
      "Communication;Creativity : 0.01128158844765343\n",
      "Comics;Creativity : 0.01128158844765343\n",
      "Casual;Music & Video : 0.01128158844765343\n",
      "Card;Action & Adventure : 0.01128158844765343\n",
      "Books & Reference;Education : 0.01128158844765343\n",
      "Art & Design;Pretend Play : 0.01128158844765343\n",
      "Art & Design;Action & Adventure : 0.01128158844765343\n",
      "Arcade;Pretend Play : 0.01128158844765343\n",
      "Adventure;Education : 0.01128158844765343\n"
     ]
    }
   ],
   "source": [
    "display_table(android_final, -4) #Genres"
   ]
  },
  {
   "cell_type": "markdown",
   "id": "33143c4d",
   "metadata": {},
   "source": [
    "The distribution of apps on Google Play presents a contrasting landscape compared to the App Store. Google Play showcases a notable presence of practical apps, with a considerable number designed for purposes such as family, tools, business, lifestyle, and productivity. However, delving deeper, we discover that the family category, comprising nearly 19% of the apps, predominantly consists of games targeting children.\n",
    "\n",
    "Despite this, practical apps enjoy a more significant representation on Google Play in comparison to the App Store. This observation is reinforced by the frequency table generated for the Genres column, which underscores the prevalence of practical app categories."
   ]
  },
  {
   "cell_type": "markdown",
   "id": "03bf7433",
   "metadata": {},
   "source": [
    "## 3.2. Most Popular Apps by Genre on the App Strore\n",
    "\n",
    "To determine the popularity of genres based on user engagement, we calculate the average number of installs for each app genre in the Google Play dataset. This information is readily available in the Installs column. However, for the App Store dataset, we lack explicit install data. Instead, we employ the total number of user ratings (available in the rating_count_tot column) as a proxy for popularity.\n",
    "\n",
    "Here's the process:\n",
    "\n",
    "- For the Google Play dataset, we directly analyze the Installs column to calculate average installs per genre.\n",
    "- For the App Store dataset, lacking install data, we use the total number of user ratings (rating_count_tot column) as a substitute for app popularity.\n",
    "- We compute the average number of user ratings per app genre in the App Store dataset.\n",
    "\n",
    "This methodology allows us to approximate the popularity of genres across both platforms, facilitating comparative analysis despite the differing data available in each dataset."
   ]
  },
  {
   "cell_type": "code",
   "execution_count": 19,
   "id": "6dab5c79",
   "metadata": {},
   "outputs": [
    {
     "name": "stdout",
     "output_type": "stream",
     "text": [
      "Social Networking : 71548.34905660378\n",
      "Photo & Video : 28441.54375\n",
      "Games : 22788.6696905016\n",
      "Music : 57326.530303030304\n",
      "Reference : 74942.11111111111\n",
      "Health & Fitness : 23298.015384615384\n",
      "Weather : 52279.892857142855\n",
      "Utilities : 18684.456790123455\n",
      "Travel : 28243.8\n",
      "Shopping : 26919.690476190477\n",
      "News : 21248.023255813954\n",
      "Navigation : 86090.33333333333\n",
      "Lifestyle : 16485.764705882353\n",
      "Entertainment : 14029.830708661417\n",
      "Food & Drink : 33333.92307692308\n",
      "Sports : 23008.898550724636\n",
      "Book : 39758.5\n",
      "Finance : 31467.944444444445\n",
      "Education : 7003.983050847458\n",
      "Productivity : 21028.410714285714\n",
      "Business : 7491.117647058823\n",
      "Catalogs : 4004.0\n",
      "Medical : 612.0\n"
     ]
    }
   ],
   "source": [
    "genres_ios = freq_table(ios_final, -5)\n",
    "\n",
    "for genre in genres_ios:\n",
    "    total = 0 \n",
    "    len_genre = 0 \n",
    "    for app in ios_final:\n",
    "        genre_app = app[-5]\n",
    "        if genre_app == genre:\n",
    "            n_ratings = float(app[5])\n",
    "            total += n_ratings\n",
    "            len_genre += 1\n",
    "    avg_n_ratings = total / len_genre\n",
    "    print(genre, ':', avg_n_ratings)"
   ]
  },
  {
   "cell_type": "markdown",
   "id": "61437e2a",
   "metadata": {},
   "source": [
    "On average, navigation apps have the highest number of user reviews, but this figure is heavily influenced by Waze and Google Maps, which have close to half a million user reviews together:"
   ]
  },
  {
   "cell_type": "code",
   "execution_count": 20,
   "id": "6f8f9faa",
   "metadata": {},
   "outputs": [
    {
     "name": "stdout",
     "output_type": "stream",
     "text": [
      "Waze - GPS Navigation, Maps & Real-time Traffic : 345046\n",
      "Google Maps - Navigation & Transit : 154911\n",
      "Geocaching® : 12811\n",
      "CoPilot GPS – Car Navigation & Offline Maps : 3582\n",
      "ImmobilienScout24: Real Estate Search in Germany : 187\n",
      "Railway Route Search : 5\n"
     ]
    }
   ],
   "source": [
    "for app in ios_final:\n",
    "    if app[-5] == 'Navigation':\n",
    "        print(app[1], ':', app[5]) #print name and number of ratings"
   ]
  },
  {
   "cell_type": "markdown",
   "id": "d611532b",
   "metadata": {},
   "source": [
    "The observed pattern extends to social networking and music apps, where the average number of ratings is disproportionately influenced by a handful of industry giants like Facebook, Pinterest, Skype, Pandora, Spotify, and Shazam. These dominant players heavily skew the average ratings, creating a misleading perception of the popularity of their respective genres.\n",
    "\n",
    "Our primary objective is to identify genuinely popular genres; however, navigation, social networking, or music apps may appear more popular than they actually are. This discrepancy arises because the average number of ratings is heavily skewed by a few apps with hundreds of thousands of user ratings, while the majority of apps struggle to surpass the 10,000 threshold.\n",
    "\n",
    "For the purpose of our analysis we will exclude these genres and look at the next most popular genre which is **Reference**. "
   ]
  },
  {
   "cell_type": "code",
   "execution_count": 21,
   "id": "8a6b436c",
   "metadata": {},
   "outputs": [
    {
     "name": "stdout",
     "output_type": "stream",
     "text": [
      "Bible : 985920\n",
      "Dictionary.com Dictionary & Thesaurus : 200047\n",
      "Dictionary.com Dictionary & Thesaurus for iPad : 54175\n",
      "Google Translate : 26786\n",
      "Muslim Pro: Ramadan 2017 Prayer Times, Azan, Quran : 18418\n",
      "New Furniture Mods - Pocket Wiki & Game Tools for Minecraft PC Edition : 17588\n",
      "Merriam-Webster Dictionary : 16849\n",
      "Night Sky : 12122\n",
      "City Maps for Minecraft PE - The Best Maps for Minecraft Pocket Edition (MCPE) : 8535\n",
      "LUCKY BLOCK MOD ™ for Minecraft PC Edition - The Best Pocket Wiki & Mods Installer Tools : 4693\n",
      "GUNS MODS for Minecraft PC Edition - Mods Tools : 1497\n",
      "Guides for Pokémon GO - Pokemon GO News and Cheats : 826\n",
      "WWDC : 762\n",
      "Horror Maps for Minecraft PE - Download The Scariest Maps for Minecraft Pocket Edition (MCPE) Free : 718\n",
      "VPN Express : 14\n",
      "Real Bike Traffic Rider Virtual Reality Glasses : 8\n",
      "教えて!goo : 0\n",
      "Jishokun-Japanese English Dictionary & Translator : 0\n"
     ]
    }
   ],
   "source": [
    "for app in ios_final:\n",
    "    if app[-5] == 'Reference':\n",
    "        print(app[1], ':', app[5])"
   ]
  },
  {
   "cell_type": "markdown",
   "id": "b1087aea",
   "metadata": {},
   "source": [
    "This genre seems to have a more evely distributed user ratings among it's apps.\n",
    "\n",
    "An intriguing venture involves transforming another popular book into an app, enhancing it with various features beyond the raw text. These features might encompass daily quotes sourced from the book, an audio rendition, quizzes related to its content, and more. Additionally, embedding a dictionary within the app could streamline users' word lookups without necessitating external app navigation.\n",
    "\n",
    "This concept aligns well with the dominance of entertainment-focused apps in the App Store. The market saturation of entertainment apps suggests an opportunity for practical applications to distinguish themselves amid the vast array of offerings.\n",
    "\n",
    "While genres like weather, book, food and drink, and finance are popular, they may not align with our current interests or capabilities:\n",
    "\n",
    "- Weather apps typically don't engage users extensively, and revenue opportunities through in-app ads are limited. Moreover, accessing reliable live weather data may entail integration with non-free APIs.\n",
    "- Food and drink apps, exemplified by brands like Starbucks and McDonald's, often involve cooking and delivery services, which fall beyond our company's scope.\n",
    "- Finance apps entail complexities related to banking, bill payments, and money transfers, necessitating domain expertise we may not possess or wish to acquire.\n",
    "\n",
    "Thus, the proposed book app concept presents an appealing opportunity to explore practical functionalities within the context of the App Store's predominantly entertainment-oriented ecosystem."
   ]
  },
  {
   "cell_type": "markdown",
   "id": "6445d2b0",
   "metadata": {},
   "source": [
    "## 3.3. Most Popular Apps by Genre on Google Play\n",
    "\n",
    "For the Google Play market, we actually have data about the number of installs, so we should be able to get a clearer picture about genre popularity. However, the install numbers don't seem precise enough — we can see that most values are open-ended (100+, 1,000+, 5,000+, etc.):"
   ]
  },
  {
   "cell_type": "code",
   "execution_count": 22,
   "id": "a5c145ac",
   "metadata": {},
   "outputs": [
    {
     "name": "stdout",
     "output_type": "stream",
     "text": [
      "1,000,000+ : 15.726534296028879\n",
      "100,000+ : 11.552346570397113\n",
      "10,000,000+ : 10.548285198555957\n",
      "10,000+ : 10.198555956678701\n",
      "1,000+ : 8.393501805054152\n",
      "100+ : 6.915613718411552\n",
      "5,000,000+ : 6.825361010830325\n",
      "500,000+ : 5.561823104693141\n",
      "50,000+ : 4.7721119133574\n",
      "5,000+ : 4.512635379061372\n",
      "10+ : 3.5424187725631766\n",
      "500+ : 3.2490974729241873\n",
      "50,000,000+ : 2.3014440433213\n",
      "100,000,000+ : 2.1322202166064983\n",
      "50+ : 1.917870036101083\n",
      "5+ : 0.78971119133574\n",
      "1+ : 0.5076714801444043\n",
      "500,000,000+ : 0.2707581227436823\n",
      "1,000,000,000+ : 0.22563176895306858\n",
      "0+ : 0.04512635379061372\n",
      "0 : 0.01128158844765343\n"
     ]
    }
   ],
   "source": [
    "display_table(android_final, 5)"
   ]
  },
  {
   "cell_type": "markdown",
   "id": "15210d37",
   "metadata": {},
   "source": [
    "The data we have may lack precision, particularly regarding the exact number of installs for certain apps. For instance, apps labeled with \"100,000+\" installs could have anywhere from 100,000 to potentially higher figures, but we don't require pinpoint accuracy for our analysis. Our primary goal is to discern which app genres tend to attract the most users, rather than obtaining precise user counts.\n",
    "\n",
    "In our approach, we'll maintain the install numbers as they are, treating an app labeled with \"100,000+\" installs as having 100,000 installs, and similarly for other install ranges. However, for computational purposes, we'll need to convert each install number to a float data type. To achieve this, we'll remove the commas and plus characters from the install counts to facilitate accurate conversion to floats.\n",
    "\n",
    "This conversion will occur within the loop where we compute the average number of installs for each genre (or category), enabling us to conduct meaningful analysis despite the inherent imprecision in the data."
   ]
  },
  {
   "cell_type": "code",
   "execution_count": 23,
   "id": "9a5f1755",
   "metadata": {
    "collapsed": true
   },
   "outputs": [
    {
     "name": "stdout",
     "output_type": "stream",
     "text": [
      "COMMUNICATION : 38456119.167247385\n",
      "VIDEO_PLAYERS : 24727872.452830188\n",
      "SOCIAL : 23253652.127118643\n",
      "PHOTOGRAPHY : 17840110.40229885\n",
      "PRODUCTIVITY : 16787331.344927534\n",
      "GAME : 15588015.603248259\n",
      "TRAVEL_AND_LOCAL : 13984077.710144928\n",
      "ENTERTAINMENT : 11640705.88235294\n",
      "TOOLS : 10801391.298666667\n",
      "NEWS_AND_MAGAZINES : 9549178.467741935\n",
      "BOOKS_AND_REFERENCE : 8767811.894736841\n",
      "SHOPPING : 7036877.311557789\n",
      "PERSONALIZATION : 5201482.6122448975\n",
      "WEATHER : 5074486.197183099\n",
      "HEALTH_AND_FITNESS : 4188821.9853479853\n"
     ]
    }
   ],
   "source": [
    "category_android = freq_table(android_final, 1)\n",
    "category_avg_installs = {}\n",
    "\n",
    "for category in category_android:\n",
    "    total = 0\n",
    "    len_category = 0\n",
    "    for app in android_final:\n",
    "        category_app = app[1]\n",
    "        if category_app == category:\n",
    "            n_installs = app[5]\n",
    "            n_installs = n_installs.replace(',', '')\n",
    "            n_installs = n_installs.replace('+', '')\n",
    "            total += float(n_installs)\n",
    "            len_category += 1\n",
    "    avg_n_installs = (total/len_category)\n",
    "    category_avg_installs[category] = avg_n_installs\n",
    "\n",
    "sorted_categories = sorted(category_avg_installs.items(), key=lambda x: x[1], reverse=True)\n",
    "for category, avg_installs in sorted_categories[:15]:\n",
    "    print(category, ':', avg_installs)\n"
   ]
  },
  {
   "cell_type": "markdown",
   "id": "43b82698",
   "metadata": {},
   "source": [
    "In our exploration of app categories across both the Google Play Store and the App Store, we've noticed intriguing similarities in the top categories. However, we've also uncovered a common challenge: certain categories, such as Communication, Video Players, Social, Photography, and Productivity, are heavily influenced by industry giants, leading to skewed figures that may not accurately represent the potential for new entrants.\n",
    "\n",
    "While the gaming genre remains popular, our analysis suggests that this segment might be oversaturated, making it more challenging for new apps to gain traction. As a result, we've set our sights on identifying alternative app recommendations with promising profit potential.\n",
    "\n",
    "One genre that stands out amidst our findings is \"Books and Reference.\" With an average number of installs exceeding 8.7 million, this genre piques our interest for several reasons. Not only does it demonstrate considerable popularity across both the App Store and Google Play Store, but our previous research has also hinted at its potential for profitability, especially on the App Store platform.\n",
    "\n",
    "Given these insights, we believe that delving deeper into the Books and Reference genre presents an exciting opportunity. By exploring this genre more comprehensively, we aim to uncover specific niches or app concepts that hold promise for success across both app platforms. Our ultimate goal is to recommend an app genre that not only shows potential for profitability but also aligns with our strategic objectives for market penetration and user engagement."
   ]
  },
  {
   "cell_type": "code",
   "execution_count": 24,
   "id": "c9c61756",
   "metadata": {
    "collapsed": true
   },
   "outputs": [
    {
     "name": "stdout",
     "output_type": "stream",
     "text": [
      "E-Book Read - Read Book for free  :  50,000+\n",
      "Download free book with green book  :  100,000+\n",
      "Wikipedia  :  10,000,000+\n",
      "Cool Reader  :  10,000,000+\n",
      "Free Panda Radio Music  :  100,000+\n",
      "Book store  :  1,000,000+\n",
      "FBReader: Favorite Book Reader  :  10,000,000+\n",
      "English Grammar Complete Handbook  :  500,000+\n",
      "Free Books - Spirit Fanfiction and Stories  :  1,000,000+\n",
      "Google Play Books  :  1,000,000,000+\n",
      "AlReader -any text book reader  :  5,000,000+\n",
      "Offline English Dictionary  :  100,000+\n",
      "Offline: English to Tagalog Dictionary  :  500,000+\n",
      "FamilySearch Tree  :  1,000,000+\n",
      "Cloud of Books  :  1,000,000+\n",
      "Recipes of Prophetic Medicine for free  :  500,000+\n",
      "ReadEra – free ebook reader  :  1,000,000+\n",
      "Anonymous caller detection  :  10,000+\n",
      "Ebook Reader  :  5,000,000+\n",
      "Litnet - E-books  :  100,000+\n",
      "Read books online  :  5,000,000+\n",
      "English to Urdu Dictionary  :  500,000+\n",
      "eBoox: book reader fb2 epub zip  :  1,000,000+\n",
      "English Persian Dictionary  :  500,000+\n",
      "Flybook  :  500,000+\n",
      "All Maths Formulas  :  1,000,000+\n",
      "Ancestry  :  5,000,000+\n",
      "HTC Help  :  10,000,000+\n",
      "English translation from Bengali  :  100,000+\n",
      "Pdf Book Download - Read Pdf Book  :  100,000+\n",
      "Free Book Reader  :  100,000+\n",
      "eBoox new: Reader for fb2 epub zip books  :  50,000+\n",
      "Only 30 days in English, the guideline is guaranteed  :  500,000+\n",
      "Moon+ Reader  :  10,000,000+\n",
      "SH-02J Owner's Manual (Android 8.0)  :  50,000+\n",
      "English-Myanmar Dictionary  :  1,000,000+\n",
      "Golden Dictionary (EN-AR)  :  1,000,000+\n",
      "All Language Translator Free  :  1,000,000+\n",
      "Azpen eReader  :  500,000+\n",
      "URBANO V 02 instruction manual  :  100,000+\n",
      "Bible  :  100,000,000+\n",
      "C Programs and Reference  :  50,000+\n",
      "C Offline Tutorial  :  1,000+\n",
      "C Programs Handbook  :  50,000+\n",
      "Amazon Kindle  :  100,000,000+\n",
      "Aab e Hayat Full Novel  :  100,000+\n",
      "Aldiko Book Reader  :  10,000,000+\n",
      "Google I/O 2018  :  500,000+\n",
      "R Language Reference Guide  :  10,000+\n",
      "Learn R Programming Full  :  5,000+\n",
      "R Programing Offline Tutorial  :  1,000+\n",
      "Guide for R Programming  :  5+\n",
      "Learn R Programming  :  10+\n",
      "R Quick Reference Big Data  :  1,000+\n",
      "V Made  :  100,000+\n",
      "Wattpad 📖 Free Books  :  100,000,000+\n",
      "Dictionary - WordWeb  :  5,000,000+\n",
      "Guide (for X-MEN)  :  100,000+\n",
      "AC Air condition Troubleshoot,Repair,Maintenance  :  5,000+\n",
      "AE Bulletins  :  1,000+\n",
      "Ae Allah na Dai (Rasa)  :  10,000+\n",
      "50000 Free eBooks & Free AudioBooks  :  5,000,000+\n",
      "Ag PhD Field Guide  :  10,000+\n",
      "Ag PhD Deficiencies  :  10,000+\n",
      "Ag PhD Planting Population Calculator  :  1,000+\n",
      "Ag PhD Soybean Diseases  :  1,000+\n",
      "Fertilizer Removal By Crop  :  50,000+\n",
      "A-J Media Vault  :  50+\n",
      "Al-Quran (Free)  :  10,000,000+\n",
      "Al Quran (Tafsir & by Word)  :  500,000+\n",
      "Al Quran Indonesia  :  10,000,000+\n",
      "Al'Quran Bahasa Indonesia  :  10,000,000+\n",
      "Al Quran Al karim  :  1,000,000+\n",
      "Al-Muhaffiz  :  50,000+\n",
      "Al Quran : EAlim - Translations & MP3 Offline  :  5,000,000+\n",
      "Al-Quran 30 Juz free copies  :  500,000+\n",
      "Koran Read &MP3 30 Juz Offline  :  1,000,000+\n",
      "Hafizi Quran 15 lines per page  :  1,000,000+\n",
      "Quran for Android  :  10,000,000+\n",
      "Surah Al-Waqiah  :  100,000+\n",
      "Hisnul Al Muslim - Hisn Invocations & Adhkaar  :  100,000+\n",
      "Satellite AR  :  1,000,000+\n",
      "Audiobooks from Audible  :  100,000,000+\n",
      "Kinot & Eichah for Tisha B'Av  :  10,000+\n",
      "AW Tozer Devotionals - Daily  :  5,000+\n",
      "Tozer Devotional -Series 1  :  1,000+\n",
      "The Pursuit of God  :  1,000+\n",
      "AY Sing  :  5,000+\n",
      "Ay Hasnain k Nana Milad Naat  :  10,000+\n",
      "Ay Mohabbat Teri Khatir Novel  :  10,000+\n",
      "Arizona Statutes, ARS (AZ Law)  :  1,000+\n",
      "Oxford A-Z of English Usage  :  1,000,000+\n",
      "BD Fishpedia  :  1,000+\n",
      "BD All Sim Offer  :  10,000+\n",
      "Youboox - Livres, BD et magazines  :  500,000+\n",
      "B&H Kids AR  :  10,000+\n",
      "B y H Niños ES  :  5,000+\n",
      "Dictionary.com: Find Definitions for English Words  :  10,000,000+\n",
      "English Dictionary - Offline  :  10,000,000+\n",
      "Bible KJV  :  5,000,000+\n",
      "Borneo Bible, BM Bible  :  10,000+\n",
      "MOD Black for BM  :  100+\n",
      "BM Box  :  1,000+\n",
      "Anime Mod for BM  :  100+\n",
      "NOOK: Read eBooks & Magazines  :  10,000,000+\n",
      "NOOK Audiobooks  :  500,000+\n",
      "NOOK App for NOOK Devices  :  500,000+\n",
      "Browsery by Barnes & Noble  :  5,000+\n",
      "bp e-store  :  1,000+\n",
      "Brilliant Quotes: Life, Love, Family & Motivation  :  1,000,000+\n",
      "BR Ambedkar Biography & Quotes  :  10,000+\n",
      "BU Alsace  :  100+\n",
      "Catholic La Bu Zo Kam  :  500+\n",
      "Khrifa Hla Bu (Solfa)  :  10+\n",
      "Kristian Hla Bu  :  10,000+\n",
      "SA HLA BU  :  1,000+\n",
      "Learn SAP BW  :  500+\n",
      "Learn SAP BW on HANA  :  500+\n",
      "CA Laws 2018 (California Laws and Codes)  :  5,000+\n",
      "Bootable Methods(USB-CD-DVD)  :  10,000+\n",
      "cloudLibrary  :  100,000+\n",
      "SDA Collegiate Quarterly  :  500+\n",
      "Sabbath School  :  100,000+\n",
      "Cypress College Library  :  100+\n",
      "Stats Royale for Clash Royale  :  1,000,000+\n",
      "GATE 21 years CS Papers(2011-2018 Solved)  :  50+\n",
      "Learn CT Scan Of Head  :  5,000+\n",
      "Easy Cv maker 2018  :  10,000+\n",
      "How to Write CV  :  100,000+\n",
      "CW Nuclear  :  1,000+\n",
      "CY Spray nozzle  :  10+\n",
      "BibleRead En Cy Zh Yue  :  5+\n",
      "CZ-Help  :  5+\n",
      "Modlitební knížka CZ  :  500+\n",
      "Guide for DB Xenoverse  :  10,000+\n",
      "Guide for DB Xenoverse 2  :  10,000+\n",
      "Guide for IMS DB  :  10+\n",
      "DC HSEMA  :  5,000+\n",
      "DC Public Library  :  1,000+\n",
      "Painting Lulu DC Super Friends  :  1,000+\n",
      "Dictionary  :  10,000,000+\n",
      "Fix Error Google Playstore  :  1,000+\n",
      "D. H. Lawrence Poems FREE  :  1,000+\n",
      "Bilingual Dictionary Audio App  :  5,000+\n",
      "DM Screen  :  10,000+\n",
      "wikiHow: how to do anything  :  1,000,000+\n",
      "Dr. Doug's Tips  :  1,000+\n",
      "Bible du Semeur-BDS (French)  :  50,000+\n",
      "La citadelle du musulman  :  50,000+\n",
      "DV 2019 Entry Guide  :  10,000+\n",
      "DV 2019 - EDV Photo & Form  :  50,000+\n",
      "DV 2018 Winners Guide  :  1,000+\n",
      "EB Annual Meetings  :  1,000+\n",
      "EC - AP & Telangana  :  5,000+\n",
      "TN Patta Citta & EC  :  10,000+\n",
      "AP Stamps and Registration  :  10,000+\n",
      "CompactiMa EC pH Calibration  :  100+\n",
      "EGW Writings 2  :  100,000+\n",
      "EGW Writings  :  1,000,000+\n",
      "Bible with EGW Comments  :  100,000+\n",
      "My Little Pony AR Guide  :  1,000,000+\n",
      "SDA Sabbath School Quarterly  :  500,000+\n",
      "Duaa Ek Ibaadat  :  5,000+\n",
      "Spanish English Translator  :  10,000,000+\n",
      "Dictionary - Merriam-Webster  :  10,000,000+\n",
      "JW Library  :  10,000,000+\n",
      "Oxford Dictionary of English : Free  :  10,000,000+\n",
      "English Hindi Dictionary  :  10,000,000+\n",
      "English to Hindi Dictionary  :  5,000,000+\n",
      "EP Research Service  :  1,000+\n",
      "Hymnes et Louanges  :  100,000+\n",
      "EU Charter  :  1,000+\n",
      "EU Data Protection  :  1,000+\n",
      "EU IP Codes  :  100+\n",
      "EW PDF  :  5+\n",
      "BakaReader EX  :  100,000+\n",
      "EZ Quran  :  50,000+\n",
      "FA Part 1 & 2 Past Papers Solved Free – Offline  :  5,000+\n",
      "La Fe de Jesus  :  1,000+\n",
      "La Fe de Jesús  :  500+\n",
      "Le Fe de Jesus  :  500+\n",
      "Florida - Pocket Brainbook  :  1,000+\n",
      "Florida Statutes (FL Code)  :  1,000+\n",
      "English To Shona Dictionary  :  10,000+\n",
      "Greek Bible FP (Audio)  :  1,000+\n",
      "Golden Dictionary (FR-AR)  :  500,000+\n",
      "Fanfic-FR  :  5,000+\n",
      "Bulgarian French Dictionary Fr  :  10,000+\n",
      "Chemin (fr)  :  1,000+\n",
      "The SCP Foundation DB fr nn5n  :  1,000+\n"
     ]
    }
   ],
   "source": [
    "for app in android_final:\n",
    "    if app[1] == 'BOOKS_AND_REFERENCE':\n",
    "        print(app[0], ' : ', app[5])\n"
   ]
  },
  {
   "cell_type": "markdown",
   "id": "202acb1a",
   "metadata": {},
   "source": [
    "The book and reference genre includes a variety of apps: software for processing and reading ebooks, various collections of libraries, dictionaries, tutorials on programming or languages, etc. However, it looks like there are only a few very popular apps, so this market still shows potential. Let's try to get some app ideas based on the kind of apps that are somewhere in the middle in terms of popularity (between 1,000,000 and 100,000,000 downloads):"
   ]
  },
  {
   "cell_type": "code",
   "execution_count": 25,
   "id": "d5aba29b",
   "metadata": {
    "collapsed": true
   },
   "outputs": [
    {
     "name": "stdout",
     "output_type": "stream",
     "text": [
      "Wikipedia : 10,000,000+\n",
      "Cool Reader : 10,000,000+\n",
      "Book store : 1,000,000+\n",
      "FBReader: Favorite Book Reader : 10,000,000+\n",
      "Free Books - Spirit Fanfiction and Stories : 1,000,000+\n",
      "AlReader -any text book reader : 5,000,000+\n",
      "FamilySearch Tree : 1,000,000+\n",
      "Cloud of Books : 1,000,000+\n",
      "ReadEra – free ebook reader : 1,000,000+\n",
      "Ebook Reader : 5,000,000+\n",
      "Read books online : 5,000,000+\n",
      "eBoox: book reader fb2 epub zip : 1,000,000+\n",
      "All Maths Formulas : 1,000,000+\n",
      "Ancestry : 5,000,000+\n",
      "HTC Help : 10,000,000+\n",
      "Moon+ Reader : 10,000,000+\n",
      "English-Myanmar Dictionary : 1,000,000+\n",
      "Golden Dictionary (EN-AR) : 1,000,000+\n",
      "All Language Translator Free : 1,000,000+\n",
      "Aldiko Book Reader : 10,000,000+\n",
      "Dictionary - WordWeb : 5,000,000+\n",
      "50000 Free eBooks & Free AudioBooks : 5,000,000+\n",
      "Al-Quran (Free) : 10,000,000+\n",
      "Al Quran Indonesia : 10,000,000+\n",
      "Al'Quran Bahasa Indonesia : 10,000,000+\n",
      "Al Quran Al karim : 1,000,000+\n",
      "Al Quran : EAlim - Translations & MP3 Offline : 5,000,000+\n",
      "Koran Read &MP3 30 Juz Offline : 1,000,000+\n",
      "Hafizi Quran 15 lines per page : 1,000,000+\n",
      "Quran for Android : 10,000,000+\n",
      "Satellite AR : 1,000,000+\n",
      "Oxford A-Z of English Usage : 1,000,000+\n",
      "Dictionary.com: Find Definitions for English Words : 10,000,000+\n",
      "English Dictionary - Offline : 10,000,000+\n",
      "Bible KJV : 5,000,000+\n",
      "NOOK: Read eBooks & Magazines : 10,000,000+\n",
      "Brilliant Quotes: Life, Love, Family & Motivation : 1,000,000+\n",
      "Stats Royale for Clash Royale : 1,000,000+\n",
      "Dictionary : 10,000,000+\n",
      "wikiHow: how to do anything : 1,000,000+\n",
      "EGW Writings : 1,000,000+\n",
      "My Little Pony AR Guide : 1,000,000+\n",
      "Spanish English Translator : 10,000,000+\n",
      "Dictionary - Merriam-Webster : 10,000,000+\n",
      "JW Library : 10,000,000+\n",
      "Oxford Dictionary of English : Free : 10,000,000+\n",
      "English Hindi Dictionary : 10,000,000+\n",
      "English to Hindi Dictionary : 5,000,000+\n"
     ]
    }
   ],
   "source": [
    "for app in android_final:\n",
    "    if app[1] == 'BOOKS_AND_REFERENCE' and (app[5] == '1,000,000+' or\n",
    "                                            app[5] == '5,000,000+' or\n",
    "                                            app[5] == '10,000,000+' or\n",
    "                                            app[5] == '50,000,000+') :\n",
    "        print(app[0], ':', app[5])"
   ]
  },
  {
   "cell_type": "markdown",
   "id": "acec87d2",
   "metadata": {},
   "source": [
    "As we delve deeper into the Books and Reference genre, we uncover a landscape dominated by software tailored for ebook processing and reading, along with an array of libraries and dictionaries. While this indicates a vibrant market, it also signals significant competition in these areas.\n",
    "\n",
    "However, amidst our exploration, we notice a notable trend: a cluster of apps centered around the Quran, hinting at the profitability of building apps around popular literary works. This observation sparks an intriguing idea: leveraging the popularity of a well-known book, potentially a more recent title, to create a profitable venture in both the Google Play and the App Store markets.\n",
    "\n",
    "Yet, as we analyze further, we realize that simply offering the raw version of a book may not suffice in a market already saturated with libraries. To truly stand out, we recognize the need for innovation and added value. Hence, our strategy pivots towards infusing unique features into our app concept.\n",
    "\n",
    "Imagine an app built around a beloved book, enriched with daily quotes from its pages, an immersive audio version for on-the-go listening, engaging quizzes to test readers' comprehension, and a vibrant forum where enthusiasts can dive deep into discussions about the book's themes and characters.\n",
    "\n",
    "This approach not only capitalizes on the popularity of a well-loved literary work but also offers a fresh, interactive experience that transcends traditional reading. By infusing technology with the timeless allure of literature, we aim to carve out a distinct space in the market, captivating readers and fostering a community united by their passion for storytelling."
   ]
  },
  {
   "cell_type": "markdown",
   "id": "114e9de2",
   "metadata": {},
   "source": [
    "# 4. Conclusion\n",
    "\n",
    "In this project, we have analysed the googleplaystore and app store datasets with the goal of recommending an app profile that can be profitable to both the markets. \n",
    "\n",
    "We concluded that taking a popular book (perhaps a more recent book) and turning it into an app could be profitable for both the Google Play and the App Store markets. The markets are already full of libraries, so we need to add some special features besides the raw version of the book. This might include daily quotes from the book, an audio version of the book, quizzes on the book, a forum where people can discuss the book, etc."
   ]
  }
 ],
 "metadata": {
  "kernelspec": {
   "display_name": "Python 3 (ipykernel)",
   "language": "python",
   "name": "python3"
  },
  "language_info": {
   "codemirror_mode": {
    "name": "ipython",
    "version": 3
   },
   "file_extension": ".py",
   "mimetype": "text/x-python",
   "name": "python",
   "nbconvert_exporter": "python",
   "pygments_lexer": "ipython3",
   "version": "3.10.11"
  }
 },
 "nbformat": 4,
 "nbformat_minor": 5
}
